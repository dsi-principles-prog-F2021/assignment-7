{
 "cells": [
  {
   "cell_type": "markdown",
   "id": "fe208e96",
   "metadata": {},
   "source": [
    "# Assignment 7\n",
    "\n",
    "Fill in the empty cells of each question with your answers . Feel free to add more cells if needed!"
   ]
  },
  {
   "cell_type": "markdown",
   "id": "ab565636",
   "metadata": {},
   "source": [
    "## Part 1: Linux Command (20 pts)\n",
    "### In this part of exercise, you may open  the terminal to test on the commands. "
   ]
  },
  {
   "cell_type": "markdown",
   "id": "794b2935",
   "metadata": {},
   "source": [
    "**1. Please briefly describe what does \"*pwd*\", \"*ls*\" and \"*mkdir*\" do. (6 pts)**"
   ]
  },
  {
   "cell_type": "markdown",
   "id": "b4afc241",
   "metadata": {},
   "source": []
  },
  {
   "cell_type": "markdown",
   "id": "06898046",
   "metadata": {},
   "source": [
    "**2. If you want to go back to the parent directory of the one you are currently at, which of the following commands should you use? (3 pts)**\n",
    "\n",
    "* **A. cd**\n",
    "\n",
    "* **B. cd ./**\n",
    "\n",
    "* **C. cd ..**\n",
    "\n",
    "* **D. cd .**"
   ]
  },
  {
   "cell_type": "markdown",
   "id": "2c190f9c",
   "metadata": {},
   "source": [
    "Your choice: "
   ]
  },
  {
   "cell_type": "markdown",
   "id": "582026b3",
   "metadata": {},
   "source": [
    "**3. If you want to remove a directory named \"Useless Directory\", which of the following commands should you use? (3 pts)**\n",
    "* **A. rm Useless Directory**\n",
    "* **B. rm \"Useless Directory\"**\n",
    "* **C. rm -r Useless Directory**\n",
    "* **D. rm -r Useless\\ Directory**"
   ]
  },
  {
   "cell_type": "markdown",
   "id": "02f4ff18",
   "metadata": {},
   "source": [
    "Your choice: "
   ]
  },
  {
   "cell_type": "markdown",
   "id": "49192e0f",
   "metadata": {},
   "source": [
    "**4. Assume you have two files named \"a.txt\" and \"b.txt\", as well as a empty directory named \"qwer\". Now you want to make a copy of \"a.txt\" and \"b.txt\" into the \"qwer\" directory. Which of the following commands *CANNOT* do so? (3 pts)**\n",
    "\n",
    "* **A. cp a.txt b.txt qwer**\n",
    "* **B. cp qwer a.txt b.txt**\n",
    "* **C. cp -r a.txt b.txt qwer**\n",
    "* **D. cp a.txt qwer | cp b.txt qwer**"
   ]
  },
  {
   "cell_type": "markdown",
   "id": "2b41223b",
   "metadata": {},
   "source": [
    "Your choice: "
   ]
  },
  {
   "cell_type": "markdown",
   "id": "1916a665",
   "metadata": {},
   "source": [
    "**5. Look at the following commands and their outputs. Then answer the questions. (5 pts)** \n",
    "\n",
    "**Command**: ls\n",
    "\n",
    "**Output**:  a.txt  b.txt  c.txt  d.txt  asdf/\n",
    "\n",
    "**Command**: mv a.txt b.txt asdf/\n"
   ]
  },
  {
   "cell_type": "markdown",
   "id": "45ceb19d",
   "metadata": {},
   "source": [
    "**(a) After executing the commands above, what will \"*ls asdf/*\" output?**\n",
    "* **A. a.txt b.txt c.txt d.txt**\n",
    "* **B. a.txt b.txt**\n",
    "* **C. c.txt d.txt**\n",
    "* **D. asdf/a.txt asdf/b.txt**"
   ]
  },
  {
   "cell_type": "markdown",
   "id": "ae46243f",
   "metadata": {},
   "source": [
    "Your choice: "
   ]
  },
  {
   "cell_type": "markdown",
   "id": "4dadde7f",
   "metadata": {},
   "source": [
    "**(b) After executing the commands above, what will \"*ls*\" output?**\n",
    "* **A. c.txt d.txt**\n",
    "* **B. a.txt b.txt asdf/**\n",
    "* **C. c.txt d.txt asdf/**\n",
    "* **D. a.txt b.txt c.txt d.txt asdf/**"
   ]
  },
  {
   "cell_type": "markdown",
   "id": "b2327b83",
   "metadata": {},
   "source": [
    "Your choice: "
   ]
  },
  {
   "cell_type": "markdown",
   "id": "aa7a4ea2",
   "metadata": {},
   "source": [
    "## Part 2: Data Structures (40 pts)"
   ]
  },
  {
   "cell_type": "markdown",
   "id": "810134bc",
   "metadata": {},
   "source": [
    "**1. Do all the elements of a list have to be the same data type? What about tuples, dictionaries, and sets? (3 pts)** "
   ]
  },
  {
   "cell_type": "markdown",
   "id": "d699bdb6",
   "metadata": {},
   "source": []
  },
  {
   "cell_type": "markdown",
   "id": "6059aa58",
   "metadata": {},
   "source": [
    "**2. Can a dictionary contain a list? Can a list contain a dictionary? (3 pts)**"
   ]
  },
  {
   "cell_type": "markdown",
   "id": "22a58b27",
   "metadata": {},
   "source": []
  },
  {
   "cell_type": "markdown",
   "id": "e919a2f4",
   "metadata": {},
   "source": [
    "### For Question 3 and 4, you are welcome to use methods from any other resources (e.g. <a href=\"https://docs.python.org/3/tutorial/datastructures.html\">data structure methods</a>, <a href=\"https://railsware.com/blog/python-for-machine-learning-indexing-and-slicing-for-lists-tuples-strings-and-other-sequential-types/the\">slicing brackets</a>) outside class materials to answer. \n",
    "\n",
    "\n",
    "**3. Consider the following tuple. Write an expression to answer each of the following questions. DO NOT USE LOOPS. (9 pts)**"
   ]
  },
  {
   "cell_type": "code",
   "execution_count": null,
   "id": "52359dd1",
   "metadata": {},
   "outputs": [],
   "source": [
    "t = (1, 2, 3, 4, 5, 6) "
   ]
  },
  {
   "cell_type": "markdown",
   "id": "53beca4e",
   "metadata": {},
   "source": [
    "**(a) Add an element to the end of the tuple. (i.e. (1, 2, 3, 4, 5, 6, 7))** "
   ]
  },
  {
   "cell_type": "code",
   "execution_count": null,
   "id": "1e7d4222",
   "metadata": {},
   "outputs": [],
   "source": []
  },
  {
   "cell_type": "markdown",
   "id": "311c78e7",
   "metadata": {},
   "source": [
    "**(b) Add an element between 3 and 4. (i.e. (1, 2, 3, 7, 4, 5, 6))**"
   ]
  },
  {
   "cell_type": "code",
   "execution_count": null,
   "id": "70c6040a",
   "metadata": {},
   "outputs": [],
   "source": []
  },
  {
   "cell_type": "markdown",
   "id": "643a9a61",
   "metadata": {},
   "source": [
    "**(c) Repeat the tuple for 5 times. (i.e. (1, 2, 3, 4, 5, 6, 1, 2, 3, 4, 5, 6, 1, 2, 3, 4, 5, 6, 1, 2, 3, 4, 5, 6, 1, 2, 3, 4, 5, 6))**"
   ]
  },
  {
   "cell_type": "code",
   "execution_count": null,
   "id": "c3b6440a",
   "metadata": {},
   "outputs": [],
   "source": []
  },
  {
   "cell_type": "markdown",
   "id": "b74c3579",
   "metadata": {},
   "source": [
    "**4.Consider the following list. Write an expression to answer each of the following questions. DO NOT USE LOOPS. (15 pts)**"
   ]
  },
  {
   "cell_type": "code",
   "execution_count": null,
   "id": "bad03cc4",
   "metadata": {},
   "outputs": [],
   "source": [
    "l = [100, 200, 300, 400, 500]"
   ]
  },
  {
   "cell_type": "markdown",
   "id": "72c68959",
   "metadata": {},
   "source": [
    "**(a) Reverse the list. (i.e. [500, 400, 300, 200, 100])** "
   ]
  },
  {
   "cell_type": "code",
   "execution_count": null,
   "id": "72d8ee88",
   "metadata": {},
   "outputs": [],
   "source": []
  },
  {
   "cell_type": "markdown",
   "id": "5bb0663f",
   "metadata": {},
   "source": [
    "**(b) Append an element at the end of the list.  (i.e. [100, 200, 300, 400, 500, 600])** "
   ]
  },
  {
   "cell_type": "code",
   "execution_count": null,
   "id": "da264409",
   "metadata": {},
   "outputs": [],
   "source": []
  },
  {
   "cell_type": "markdown",
   "id": "30ac09fb",
   "metadata": {},
   "source": [
    "**(c) Find the index of 200.** "
   ]
  },
  {
   "cell_type": "code",
   "execution_count": null,
   "id": "abd572d6",
   "metadata": {},
   "outputs": [],
   "source": []
  },
  {
   "cell_type": "markdown",
   "id": "ab30a939",
   "metadata": {},
   "source": [
    "**(d) Get the even-index number in this list. (i.e. [100, 300, 500])**"
   ]
  },
  {
   "cell_type": "code",
   "execution_count": null,
   "id": "564486b0",
   "metadata": {},
   "outputs": [],
   "source": []
  },
  {
   "cell_type": "markdown",
   "id": "ffb64e5d",
   "metadata": {},
   "source": [
    "**(e) Find the length of this list.**"
   ]
  },
  {
   "cell_type": "code",
   "execution_count": null,
   "id": "dd1fcd21",
   "metadata": {},
   "outputs": [],
   "source": []
  },
  {
   "cell_type": "markdown",
   "id": "2c2fad6f",
   "metadata": {},
   "source": [
    "**5. Shown below is a small subset of data from the Star Wars dataset. Please create an appropriate data structure to store this information. Please also justify your choice by stating the benefit of using this type of data structure over the others. (10 pts)** \n",
    "\n",
    "| name           | height | mass  | eye_color |\n",
    "|----------------|--------|-------|-----------|\n",
    "| Luke Skywalker | 172    | 77.0  | blue      |\n",
    "| C-3PO          | 167    | 75.0  | yellow    |\n",
    "| R2-D2          | 96     | 32.0  | red       |\n",
    "| Darth Vader    | 202    | 136.0 | yellow    |"
   ]
  },
  {
   "cell_type": "code",
   "execution_count": null,
   "id": "bb8d9191",
   "metadata": {},
   "outputs": [],
   "source": [
    "# your data structure code here"
   ]
  },
  {
   "cell_type": "markdown",
   "id": "13412471",
   "metadata": {},
   "source": [
    "Your explaination here"
   ]
  },
  {
   "cell_type": "markdown",
   "id": "e6137e4c",
   "metadata": {},
   "source": [
    "## Part 3: Operators (40 pts)"
   ]
  },
  {
   "cell_type": "markdown",
   "id": "cac47b09",
   "metadata": {},
   "source": [
    "**1. Write a Python expression that counts the number of multiples of 3 in the range of [100, 500]. That is, how many multiples of 3 are there between 100 and 500?**"
   ]
  },
  {
   "cell_type": "code",
   "execution_count": null,
   "id": "c1172b53",
   "metadata": {},
   "outputs": [],
   "source": []
  },
  {
   "cell_type": "markdown",
   "id": "ad0f0f49",
   "metadata": {},
   "source": [
    "**2. Utilizing operators in python, calculate what 392850 seconds are in hours, minutes and seconds. Rewrite 392850s into the format of *x hours y minute z seconds*.** "
   ]
  },
  {
   "cell_type": "code",
   "execution_count": null,
   "id": "46f039c3",
   "metadata": {},
   "outputs": [],
   "source": [
    "total_seconds = 392850\n",
    "hour = # edit your code here\n",
    "minute = # edit your code here\n",
    "second = # edit your code here\n",
    "print(\"392850 seconds is actually %d hours %d minutes %d seconds\" %(hour, minute, second)) # do not edit on this!"
   ]
  },
  {
   "cell_type": "markdown",
   "id": "e792db68",
   "metadata": {},
   "source": [
    "**3. For x, y, z, and w (defined below), write an expression to verify that the following statements are True (i.e. the expression returns \"True\" in each question):**"
   ]
  },
  {
   "cell_type": "code",
   "execution_count": null,
   "id": "252244f9",
   "metadata": {},
   "outputs": [],
   "source": [
    "x = 1\n",
    "y = [1, 2, 3]\n",
    "z = [1, 2, 3]\n",
    "w = [3, 4, 5]\n",
    "u = {'a': 1, 'b': 2, 'c': 3}\n",
    "v = ['a', 'b', 'c']"
   ]
  },
  {
   "cell_type": "markdown",
   "id": "1ead3190",
   "metadata": {},
   "source": [
    "**(a) y and z are equal in value.**"
   ]
  },
  {
   "cell_type": "code",
   "execution_count": null,
   "id": "5422121c",
   "metadata": {},
   "outputs": [],
   "source": []
  },
  {
   "cell_type": "markdown",
   "id": "758fcb9a",
   "metadata": {},
   "source": [
    "**(b) the 3rd value of y equals to the 1st value of w.**"
   ]
  },
  {
   "cell_type": "code",
   "execution_count": null,
   "id": "e0c05763",
   "metadata": {},
   "outputs": [],
   "source": []
  },
  {
   "cell_type": "markdown",
   "id": "92340d93",
   "metadata": {},
   "source": [
    "**(c) x is a member of y.**"
   ]
  },
  {
   "cell_type": "code",
   "execution_count": null,
   "id": "e2c6f821",
   "metadata": {},
   "outputs": [],
   "source": []
  },
  {
   "cell_type": "markdown",
   "id": "03f0dd3d",
   "metadata": {},
   "source": [
    "**(d) x is not in the list w.**"
   ]
  },
  {
   "cell_type": "code",
   "execution_count": null,
   "id": "7d0392b0",
   "metadata": {},
   "outputs": [],
   "source": []
  },
  {
   "cell_type": "markdown",
   "id": "1abe994c",
   "metadata": {},
   "source": [
    "**(e) x is either a member of y or a member of w.**"
   ]
  },
  {
   "cell_type": "code",
   "execution_count": null,
   "id": "829cbcc2",
   "metadata": {},
   "outputs": [],
   "source": []
  },
  {
   "cell_type": "markdown",
   "id": "c9ea068d",
   "metadata": {},
   "source": [
    "**(f) x is a member of y and is not a member of w.**"
   ]
  },
  {
   "cell_type": "code",
   "execution_count": null,
   "id": "2920bd34",
   "metadata": {},
   "outputs": [],
   "source": []
  },
  {
   "cell_type": "markdown",
   "id": "76773a65",
   "metadata": {},
   "source": [
    "**(g) x is a member of values of u.**"
   ]
  },
  {
   "cell_type": "code",
   "execution_count": null,
   "id": "2b92dab3",
   "metadata": {},
   "outputs": [],
   "source": []
  },
  {
   "cell_type": "markdown",
   "id": "51468062",
   "metadata": {},
   "source": [
    "**(h) v equals to the list of keys of u.**"
   ]
  },
  {
   "cell_type": "code",
   "execution_count": null,
   "id": "77abdf72",
   "metadata": {},
   "outputs": [],
   "source": []
  }
 ],
 "metadata": {
  "kernelspec": {
   "display_name": "Python 3",
   "language": "python",
   "name": "python3"
  },
  "language_info": {
   "codemirror_mode": {
    "name": "ipython",
    "version": 3
   },
   "file_extension": ".py",
   "mimetype": "text/x-python",
   "name": "python",
   "nbconvert_exporter": "python",
   "pygments_lexer": "ipython3",
   "version": "3.8.8"
  }
 },
 "nbformat": 4,
 "nbformat_minor": 5
}
